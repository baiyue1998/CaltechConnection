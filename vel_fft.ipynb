{
 "cells": [
  {
   "cell_type": "code",
   "execution_count": 5,
   "id": "531269a2-9f18-417d-bcca-39d0dda9865a",
   "metadata": {},
   "outputs": [],
   "source": [
    "import numpy as np\n",
    "import pylab as plt\n",
    "import sys,glob\n",
    "import matplotlib as mpl\n",
    "import matplotlib.pyplot as plt\n",
    "from tempfile import TemporaryFile\n",
    "import math \n",
    "import xarray as xr\n",
    "from scipy.stats.distributions import chi2\n",
    "from numpy.lib.stride_tricks import as_strided as ast\n",
    "from matplotlib.colors import LogNorm"
   ]
  },
  {
   "cell_type": "code",
   "execution_count": 14,
   "id": "18956569-6229-4522-a7f2-0febd11b0221",
   "metadata": {},
   "outputs": [],
   "source": [
    "def spec(zonal_data, merid_data,dt):\n",
    "    \n",
    "    zonal_mean = zonal_data.mean()\n",
    "    merid_mean = merid_data.mean()\n",
    "\n",
    "    zonal = zonal_data\n",
    "    merid = merid_data\n",
    "\n",
    "    Nyf = 1/(2*dt)\n",
    "    N = len(zonal)\n",
    "    df = 1/(N*dt)\n",
    "    f = np.arange(-Nyf,Nyf-df,df)\n",
    "\n",
    "    window = 1#np.hanning(N)\n",
    "    ufft = math.sqrt(8/3)*np.fft.rfft(zonal*window,N)\n",
    "    vfft = math.sqrt(8/3)*np.fft.rfft(merid*window,N)\n",
    "    \n",
    "\n",
    "    Upow = np.abs(ufft)**2\n",
    "    Vpow = np.abs(vfft)**2\n",
    "\n",
    " \n",
    "    Spec = 0.5*(Upow+Vpow)\n",
    "    Spec[1:int(len(Spec))-1]=2*Spec[1:int(len(Spec))-1]\n",
    "    Spec = Spec/N\n",
    "    \n",
    "    norm = 1/(N*df)\n",
    "    Spec = Spec*norm\n",
    "    \n",
    "    return Spec"
   ]
  },
  {
   "cell_type": "code",
   "execution_count": 6,
   "id": "f4b4bcd4-834f-4da6-ad4d-459c8c691357",
   "metadata": {},
   "outputs": [
    {
     "name": "stderr",
     "output_type": "stream",
     "text": [
      "/srv/conda/envs/notebook/lib/python3.11/site-packages/xarray/coding/times.py:209: CFWarning: this date/calendar/year zero convention is not supported by CF\n",
      "  cftime.num2date(num_dates, units, calendar, only_use_cftime_datetimes=True)\n"
     ]
    }
   ],
   "source": [
    "### data loading \n",
    "moor1_file = \"./b1743017.nc\" \n",
    "moor1_ds = xr.open_dataset(moor1_file)"
   ]
  },
  {
   "cell_type": "code",
   "execution_count": 7,
   "id": "d98495d7-04bb-47da-b20f-195a1ce9faaf",
   "metadata": {},
   "outputs": [],
   "source": [
    "### only using a chuck of the data\n",
    "time1 = moor1_ds['TIME'] \n",
    "time1 =  time1[0,1166+521:51566+521]\n",
    "zonal_vel1 = moor1_ds['LCNSEL01'] # u velocities (west-east direction)\n",
    "zonal_vel1 = zonal_vel1[0,1166+521:51566+521]/100 # in m/s\n",
    "merid_vel1 = moor1_ds['LCEWEL01'] #v velocities (north-south direction)\n",
    "merid_vel1 = merid_vel1[0,1166+521:51566+521]/100 # change units to m/s"
   ]
  },
  {
   "cell_type": "code",
   "execution_count": 8,
   "id": "6deeaf94-c4bd-4f7b-85d7-18d1324cc724",
   "metadata": {},
   "outputs": [],
   "source": [
    "u = zonal_vel1[0:240] # choose the first 100 points in the whole data set\n",
    "v = merid_vel1[0:240]\n",
    "time = time1[0:240]"
   ]
  },
  {
   "cell_type": "code",
   "execution_count": 13,
   "id": "ecd1bb10-a852-4b4a-a7e7-cd85bc9811f9",
   "metadata": {},
   "outputs": [
    {
     "ename": "NameError",
     "evalue": "name 'window' is not defined",
     "output_type": "error",
     "traceback": [
      "\u001b[0;31m---------------------------------------------------------------------------\u001b[0m",
      "\u001b[0;31mNameError\u001b[0m                                 Traceback (most recent call last)",
      "Cell \u001b[0;32mIn[13], line 4\u001b[0m\n\u001b[1;32m      2\u001b[0m zonal_da \u001b[38;5;241m=\u001b[39m u\n\u001b[1;32m      3\u001b[0m merid_da \u001b[38;5;241m=\u001b[39m v\n\u001b[0;32m----> 4\u001b[0m Spect \u001b[38;5;241m=\u001b[39m \u001b[43mspec\u001b[49m\u001b[43m(\u001b[49m\u001b[43mzonal_da\u001b[49m\u001b[43m,\u001b[49m\u001b[43mmerid_da\u001b[49m\u001b[43m,\u001b[49m\u001b[43mdt\u001b[49m\u001b[43m)\u001b[49m\n",
      "Cell \u001b[0;32mIn[11], line 15\u001b[0m, in \u001b[0;36mspec\u001b[0;34m(zonal_data, merid_data, dt)\u001b[0m\n\u001b[1;32m     12\u001b[0m f \u001b[38;5;241m=\u001b[39m np\u001b[38;5;241m.\u001b[39marange(\u001b[38;5;241m-\u001b[39mNyf,Nyf\u001b[38;5;241m-\u001b[39mdf,df)\n\u001b[1;32m     14\u001b[0m \u001b[38;5;66;03m# window = np.hanning(N)\u001b[39;00m\n\u001b[0;32m---> 15\u001b[0m ufft \u001b[38;5;241m=\u001b[39m math\u001b[38;5;241m.\u001b[39msqrt(\u001b[38;5;241m8\u001b[39m\u001b[38;5;241m/\u001b[39m\u001b[38;5;241m3\u001b[39m)\u001b[38;5;241m*\u001b[39mnp\u001b[38;5;241m.\u001b[39mfft\u001b[38;5;241m.\u001b[39mrfft(zonal\u001b[38;5;241m*\u001b[39m\u001b[43mwindow\u001b[49m,N)\n\u001b[1;32m     16\u001b[0m vfft \u001b[38;5;241m=\u001b[39m math\u001b[38;5;241m.\u001b[39msqrt(\u001b[38;5;241m8\u001b[39m\u001b[38;5;241m/\u001b[39m\u001b[38;5;241m3\u001b[39m)\u001b[38;5;241m*\u001b[39mnp\u001b[38;5;241m.\u001b[39mfft\u001b[38;5;241m.\u001b[39mrfft(merid\u001b[38;5;241m*\u001b[39mwindow,N)\n\u001b[1;32m     19\u001b[0m Upow \u001b[38;5;241m=\u001b[39m np\u001b[38;5;241m.\u001b[39mabs(ufft)\u001b[38;5;241m*\u001b[39m\u001b[38;5;241m*\u001b[39m\u001b[38;5;241m2\u001b[39m\n",
      "\u001b[0;31mNameError\u001b[0m: name 'window' is not defined"
     ]
    }
   ],
   "source": [
    "dt = 1/6\n",
    "zonal_da = u\n",
    "merid_da = v\n",
    "Spect = spec(zonal_da,merid_da,dt)"
   ]
  },
  {
   "cell_type": "code",
   "execution_count": null,
   "id": "36af4058-dd27-4798-8221-cc66bf8ea671",
   "metadata": {},
   "outputs": [],
   "source": []
  }
 ],
 "metadata": {
  "kernelspec": {
   "display_name": "Python 3 (ipykernel)",
   "language": "python",
   "name": "python3"
  },
  "language_info": {
   "codemirror_mode": {
    "name": "ipython",
    "version": 3
   },
   "file_extension": ".py",
   "mimetype": "text/x-python",
   "name": "python",
   "nbconvert_exporter": "python",
   "pygments_lexer": "ipython3",
   "version": "3.11.0"
  }
 },
 "nbformat": 4,
 "nbformat_minor": 5
}
